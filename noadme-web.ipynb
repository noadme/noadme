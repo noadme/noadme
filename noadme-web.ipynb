{
 "cells": [
  {
   "cell_type": "markdown",
   "metadata": {},
   "source": [
    "# README? NoADME!\n"
   ]
  },
  {
   "cell_type": "code",
   "execution_count": 45,
   "metadata": {},
   "outputs": [],
   "source": [
    "! pip install -qU gradio python-dotenv langchain-upstage\n",
    "! pip install -qU requests"
   ]
  },
  {
   "cell_type": "code",
   "execution_count": 46,
   "metadata": {},
   "outputs": [
    {
     "name": "stdout",
     "output_type": "stream",
     "text": [
      "The dotenv extension is already loaded. To reload it, use:\n",
      "  %reload_ext dotenv\n"
     ]
    }
   ],
   "source": [
    "%load_ext dotenv\n",
    "%dotenv\n",
    "# set UPSTAGE_API_KEY"
   ]
  },
  {
   "cell_type": "code",
   "execution_count": 47,
   "metadata": {},
   "outputs": [],
   "source": [
    "import warnings\n",
    "\n",
    "warnings.filterwarnings(\"ignore\")"
   ]
  },
  {
   "cell_type": "markdown",
   "metadata": {},
   "source": [
    "# 2-shot prompt to get mermaid syntax"
   ]
  },
  {
   "cell_type": "code",
   "execution_count": 50,
   "metadata": {},
   "outputs": [],
   "source": [
    "import gradio as gr\n",
    "\n",
    "from langchain_upstage import ChatUpstage\n",
    "from langchain_core.prompts import ChatPromptTemplate, MessagesPlaceholder\n",
    "from langchain_core.output_parsers import StrOutputParser\n",
    "from langchain.schema import AIMessage, HumanMessage\n",
    "\n",
    "\n",
    "llm = ChatUpstage()\n",
    "\n",
    "smsg = \"\"\"You are a helpful assistant. Please extract user and participants's name  from the following text. I am a user. Then, organize the action relationships between me and the participants.\n",
    "---\n",
    "    We are a team of 5 members called Krispy Team.\n",
    "    Dr. Kim Yoon-gon gave me coffee. I said thank you.\n",
    "    Student Jae-min also received coffee from Dr. Kim Yoon-gon. Dr. Son Seok-ho is explaining the team project topic now.\n",
    "    Student Sung-hoon is preparing presentation materials for other team members.\n",
    "\n",
    "    This is an answer template\n",
    "    ```mermaid\n",
    "    sequenceDiagram\n",
    "        actor User\n",
    "        participant Kim Yoon-gon\n",
    "        participant Jae-min\n",
    "        participant Son Seok-ho\n",
    "        participant Sung-hoon\n",
    "        participant Other team members\n",
    "\n",
    "        User ->> Kim Yoon-gon : Received coffee and said thank you\n",
    "        Kim Yoon-gon ->> Jae-min : Gave coffee\n",
    "        Son Seok-ho ->> Team : Explained the project topic\n",
    "        Sung-hoon ->> Other team members : Prepared presentation materials\n",
    "    ```\n",
    "    \"\"\"\n",
    "\n",
    "chat_with_history_prompt = ChatPromptTemplate.from_messages(\n",
    "    [\n",
    "        (\"system\", smsg),\n",
    "        MessagesPlaceholder(variable_name=\"history\"),\n",
    "        (\"human\", \"{message}\"),\n",
    "    ]\n",
    ")\n"
   ]
  },
  {
   "cell_type": "markdown",
   "metadata": {},
   "source": [
    "# Define functions to interact with GitHub"
   ]
  },
  {
   "cell_type": "code",
   "execution_count": 59,
   "metadata": {},
   "outputs": [],
   "source": [
    "import requests\n",
    "import json\n",
    "import os\n",
    "from datetime import datetime\n",
    "\n",
    "# GitHub Personal Access Token 및 사용자/저장소 정보 설정\n",
    "GITHUB_TOKEN = os.environ[\"GITHUB_TOKEN\"]\n",
    "REPO_OWNER = os.environ[\"REPO_OWNER\"]\n",
    "REPO_NAME = os.environ[\"REPO_NAME\"]\n",
    "\n",
    "# GitHub API URL 설정\n",
    "GITHUB_API_URL = \"https://api.github.com\"\n",
    "\n",
    "# 헤더 설정\n",
    "headers = {\n",
    "    \"Authorization\": f\"token {GITHUB_TOKEN}\",\n",
    "    \"Accept\": \"application/vnd.github.v3+json\"\n",
    "}\n",
    "\n",
    "# 1. 브랜치 생성 함수\n",
    "def create_branch(branch_name):\n",
    "    # main 브랜치의 최신 커밋 SHA 가져오기\n",
    "    response = requests.get(f\"{GITHUB_API_URL}/repos/{REPO_OWNER}/{REPO_NAME}/git/ref/heads/main\", headers=headers)\n",
    "    sha = response.json()[\"object\"][\"sha\"]\n",
    "\n",
    "    # 새 브랜치 생성\n",
    "    data = {\n",
    "        \"ref\": f\"refs/heads/{branch_name}\",\n",
    "        \"sha\": sha\n",
    "    }\n",
    "    response = requests.post(f\"{GITHUB_API_URL}/repos/{REPO_OWNER}/{REPO_NAME}/git/refs\", headers=headers, data=json.dumps(data))\n",
    "    if response.status_code == 201:\n",
    "        print(f\"Branch '{branch_name}' created successfully.\")\n",
    "    else:\n",
    "        print(f\"Failed to create branch: {response.json()}\")\n",
    "\n",
    "# 2. 파일 커밋 함수\n",
    "def commit_file(branch_name, file_path, file_content):\n",
    "    # 파일을 Base64로 인코딩\n",
    "    import base64\n",
    "    encoded_content = base64.b64encode(file_content.encode()).decode()\n",
    "\n",
    "    # 파일 커밋\n",
    "    data = {\n",
    "        \"message\": f\"Add a generated diagram {file_path}\",\n",
    "        \"content\": encoded_content,\n",
    "        \"branch\": branch_name\n",
    "    }\n",
    "    response = requests.put(f\"{GITHUB_API_URL}/repos/{REPO_OWNER}/{REPO_NAME}/contents/{file_path}\", headers=headers, data=json.dumps(data))\n",
    "    if response.status_code == 201:\n",
    "        print(f\"File '{file_path}' committed successfully.\")\n",
    "    else:\n",
    "        print(f\"Failed to commit file: {response.json()}\")\n",
    "\n",
    "# 3. PR 생성 함수\n",
    "def create_pull_request(branch_name):\n",
    "    data = {\n",
    "        \"title\": \"Add a generated diagram\",\n",
    "        \"head\": branch_name,\n",
    "        \"base\": \"main\",\n",
    "        \"body\": \"This PR adds a generated diagram written in Mermaid syntax.\"\n",
    "    }\n",
    "    response = requests.post(f\"{GITHUB_API_URL}/repos/{REPO_OWNER}/{REPO_NAME}/pulls\", headers=headers, data=json.dumps(data))\n",
    "    if response.status_code == 201:\n",
    "        print(\"Pull request created successfully.\")\n",
    "    else:\n",
    "        print(f\"Failed to create pull request: {response.json()}\")\n"
   ]
  },
  {
   "cell_type": "markdown",
   "metadata": {},
   "source": [
    "# Set knowledge base of Mermaid syntax\n",
    "\n",
    "TBD"
   ]
  },
  {
   "cell_type": "markdown",
   "metadata": {},
   "source": [
    "# Tool RAG\n",
    "\n",
    "TBD"
   ]
  },
  {
   "cell_type": "code",
   "execution_count": 60,
   "metadata": {},
   "outputs": [],
   "source": [
    "chain = chat_with_history_prompt | llm | StrOutputParser()"
   ]
  },
  {
   "cell_type": "code",
   "execution_count": 63,
   "metadata": {},
   "outputs": [],
   "source": [
    "from langchain_upstage import UpstageGroundednessCheck\n",
    "\n",
    "def gc(aimsg, hmsg):\n",
    "    groundedness_check = UpstageGroundednessCheck()\n",
    "\n",
    "    answer = aimsg\n",
    "    gc_result = groundedness_check.invoke({\"context\": hmsg, \"answer\": answer})\n",
    "\n",
    "    print(gc_result)\n",
    "    if gc_result.lower().startswith(\"grounded\"):\n",
    "        return \"[ Groundedness check passed ] \"\n",
    "    else:\n",
    "        return \"[ Groundedness check failed ]\"\n",
    "\n",
    "def chat(message, history):\n",
    "    history_langchain_format = []\n",
    "    # aimsg =\"\"\n",
    "    # hmsg =\"\"\n",
    "    for human, ai in history:\n",
    "        history_langchain_format.append(HumanMessage(content=human))\n",
    "        history_langchain_format.append(AIMessage(content=ai))\n",
    "    \n",
    "    response = chain.invoke({\"message\": message, \"history\": history_langchain_format})\n",
    "    \n",
    "    ret = gc(response, message)\n",
    "    \n",
    "    ans = response + \"\\n\" + ret\n",
    "    print(ans)\n",
    "    timestamp = datetime.now().strftime(\"%Y%m%d%H%M%S\")\n",
    "    f_path = f\"test/generated-diagram-{timestamp}.md\"\n",
    "    branch = f\"add-diagram-{timestamp}\"\n",
    "    create_branch(branch)\n",
    "    commit_file(branch, f_path, ans)\n",
    "    create_pull_request(branch)\n",
    "    \n",
    "    return ans"
   ]
  },
  {
   "cell_type": "code",
   "execution_count": 64,
   "metadata": {},
   "outputs": [],
   "source": [
    "with gr.Blocks() as demo:\n",
    "    chatbot = gr.ChatInterface(\n",
    "        chat,\n",
    "        examples=[\n",
    "            \"How to eat healthy?\",\n",
    "            \"Best Places in Korea\",\n",
    "            \"How to make a chatbot?\",\n",
    "        ],\n",
    "        title=\"Solar Chatbot\",\n",
    "        description=\"Upstage Solar Chatbot\",\n",
    "    )\n",
    "    chatbot.chatbot.height = 300"
   ]
  },
  {
   "cell_type": "code",
   "execution_count": 65,
   "metadata": {},
   "outputs": [
    {
     "name": "stdout",
     "output_type": "stream",
     "text": [
      "Running on local URL:  http://127.0.0.1:7870\n",
      "\n",
      "To create a public link, set `share=True` in `launch()`.\n"
     ]
    },
    {
     "data": {
      "text/html": [
       "<div><iframe src=\"http://127.0.0.1:7870/\" width=\"100%\" height=\"500\" allow=\"autoplay; camera; microphone; clipboard-read; clipboard-write;\" frameborder=\"0\" allowfullscreen></iframe></div>"
      ],
      "text/plain": [
       "<IPython.core.display.HTML object>"
      ]
     },
     "metadata": {},
     "output_type": "display_data"
    },
    {
     "name": "stdout",
     "output_type": "stream",
     "text": [
      "grounded\n",
      "```mermaid\n",
      "sequenceDiagram\n",
      "    participant User\n",
      "    participant NoREADME Server\n",
      "    participant GitHub\n",
      "    participant LangChain\n",
      "    participant Context Searcher\n",
      "    participant Text Analyzer\n",
      "    participant Entity Extractor\n",
      "    participant Mermaid Diagram Generator\n",
      "    participant Validator\n",
      "\n",
      "    User->>NoREADME Server: 입력 GitHub md 파일 URL\n",
      "    NoREADME Server->>LangChain: 파이프라인 시작\n",
      "    LangChain->>URL Input: URL 입력\n",
      "    URL Input->>LangChain: URL 반환\n",
      "    LangChain->>File Download: 파일 다운로드\n",
      "    File Download->>GitHub: md 파일 요청\n",
      "    GitHub->>File Download: md 파일 제공\n",
      "    File Download->>LangChain: 다운로드된 파일 콘텐츠 반환\n",
      "    LangChain->>Context Searcher: 관련 컨텍스트 검색\n",
      "    Context Searcher->>LangChain: 관련 컨텍스트 반환\n",
      "    LangChain->>Text Analyzer: 파일 콘텐츠 및 컨텍스트 분석\n",
      "    Text Analyzer->>LangChain: 추출된 컨텍스트 반환\n",
      "    LangChain->>Entity Extractor: 엔티티 및 상호작용 추출\n",
      "    Entity Extractor->>LangChain: 엔티티 및 상호작용 반환\n",
      "    LangChain->>Mermaid Diagram Generator: Mermaid 다이어그램 생성\n",
      "    Mermaid Diagram Generator->>LangChain: 생성된 다이어그램 반환\n",
      "    LangChain->>Validator: 다이어그램 검증\n",
      "    Validator->>LangChain: 검증 결과 반환\n",
      "    LangChain->>NoREADME Server: GitHub에 다이어그램 커밋\n",
      "    NoREADME Server->>GitHub: 다이어그램 커밋 요청\n",
      "    GitHub->>NoREADME Server: 커밋 응답\n",
      "    NoREADME Server->>User: 업데이트된 md 파일 반환\n",
      "```\n",
      "[ Groundedness check passed ] \n",
      "Branch 'add-diagram-20240706173934' created successfully.\n",
      "File 'test/generated-diagram-20240706173934.md' committed successfully.\n",
      "Pull request created successfully.\n"
     ]
    }
   ],
   "source": [
    "if __name__ == \"__main__\":\n",
    "    demo.launch()"
   ]
  }
 ],
 "metadata": {
  "kernelspec": {
   "display_name": ".venv",
   "language": "python",
   "name": "python3"
  },
  "language_info": {
   "codemirror_mode": {
    "name": "ipython",
    "version": 3
   },
   "file_extension": ".py",
   "mimetype": "text/x-python",
   "name": "python",
   "nbconvert_exporter": "python",
   "pygments_lexer": "ipython3",
   "version": "3.10.12"
  }
 },
 "nbformat": 4,
 "nbformat_minor": 2
}
