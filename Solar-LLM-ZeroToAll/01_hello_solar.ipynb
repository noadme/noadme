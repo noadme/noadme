{
 "cells": [
  {
   "cell_type": "markdown",
   "metadata": {},
   "source": [
    "<a target=\"_blank\" href=\"https://colab.research.google.com/github/UpstageAI/cookbook/blob/main/Solar-LLM-ZeroToAll/01_hello_solar.ipynb\">\n",
    "<img src=\"https://colab.research.google.com/assets/colab-badge.svg\" alt=\"Open In Colab\"/>\n",
    "</a>"
   ]
  },
  {
   "cell_type": "code",
   "execution_count": 1,
   "metadata": {},
   "outputs": [],
   "source": [
    "! pip3 install -qU langchain-upstage  requests python-dotenv"
   ]
  },
  {
   "cell_type": "markdown",
   "metadata": {},
   "source": [
    "## UPSTAGE_API_KEY\n",
    "To obtain your Upstage API key, follow these steps:\n",
    "\n",
    "1. Visit the Upstage AI console at <https://console.upstage.ai>.\n",
    "2. Sign up for an account if you don't already have one.\n",
    "3. Log in to your account.\n",
    "4. Navigate to the API key section.\n",
    "5. Generate your API key.\n",
    "6. Copy the key and save it securely.\n",
    "\n",
    "![Console](./figures/console.upstage.ai.jpg)"
   ]
  },
  {
   "cell_type": "code",
   "execution_count": 3,
   "metadata": {},
   "outputs": [
    {
     "name": "stdout",
     "output_type": "stream",
     "text": [
      "The dotenv extension is already loaded. To reload it, use:\n",
      "  %reload_ext dotenv\n"
     ]
    }
   ],
   "source": [
    "\n",
    "%load_ext dotenv\n",
    "%dotenv\n",
    "# set UPSTAGE_API_KEY in .env file\n",
    "# UPSTAGE_API_KEY=your_api_key"
   ]
  },
  {
   "cell_type": "code",
   "execution_count": 4,
   "metadata": {},
   "outputs": [],
   "source": [
    "import warnings\n",
    "\n",
    "warnings.filterwarnings(\"ignore\")"
   ]
  },
  {
   "cell_type": "code",
   "execution_count": 5,
   "metadata": {},
   "outputs": [
    {
     "name": "stdout",
     "output_type": "stream",
     "text": [
      "('In a galaxy far, far away, there was a small planet known as Zephyria. On '\n",
      " 'this planet, there lived a young boy named Kai who had a deep fascination '\n",
      " \"with the stars and the mysteries of the universe. Kai's best friend was a \"\n",
      " \"curious and intelligent droid named LIRA, who shared Kai's passion for \"\n",
      " 'exploration and discovery.\\n'\n",
      " '\\n'\n",
      " 'One day, while exploring the outskirts of their village, Kai and LIRA '\n",
      " 'stumbled upon an ancient artifact buried beneath the sand. The artifact was '\n",
      " 'a small, glowing crystal that emitted a strange energy. As Kai held the '\n",
      " 'crystal, he felt a sudden surge of power and his eyes were opened to a new '\n",
      " 'world of possibilities.\\n'\n",
      " '\\n'\n",
      " 'Together, Kai and LIRA embarked on a journey to uncover the secrets of the '\n",
      " 'universe. They traveled to distant planets, met new friends, and encountered '\n",
      " 'dangerous enemies. Along the way, they discovered that the crystal was '\n",
      " 'actually a powerful tool known as the \"Starlight Crystal,\" which held the '\n",
      " 'key to unlocking the mysteries of the cosmos.\\n'\n",
      " '\\n'\n",
      " 'As they continued their journey, Kai and LIRA encountered a group of beings '\n",
      " 'known as the \"Guardians of the Galaxy.\" The Guardians were a team of heroes '\n",
      " 'who protected the galaxy from evil and ensured that peace and justice '\n",
      " 'prevailed. They were led by a powerful and wise being named Galaxia, who '\n",
      " 'recognized the potential of the Starlight Crystal and offered to train Kai '\n",
      " 'and LIRA in the ways of the Force.\\n'\n",
      " '\\n'\n",
      " \"Under Galaxia's guidance, Kai and LIRA learned to harness the power of the \"\n",
      " 'Force and use it to protect the galaxy from the forces of darkness. They '\n",
      " 'became skilled warriors and adventurers, and their names became legendary '\n",
      " 'throughout the galaxy.\\n'\n",
      " '\\n'\n",
      " 'As they continued their journey, Kai and LIRA encountered many challenges '\n",
      " 'and obstacles. They faced off against powerful enemies, including the evil '\n",
      " 'Lord Zorak, who sought to use the power of the Starlight Crystal for his own '\n",
      " 'gain. Despite the many dangers they faced, Kai and LIRA remained steadfast '\n",
      " 'in their quest to protect the galaxy and bring peace to the universe.\\n'\n",
      " '\\n'\n",
      " 'In the end, Kai and LIRA were able to defeat Lord Zorak and his minions, and '\n",
      " 'they were hailed as heroes throughout the galaxy. The Starlight Crystal was '\n",
      " 'returned to its rightful place, and the galaxy was once again at peace. Kai '\n",
      " 'and LIRA continued to explore the universe, always ready to face whatever '\n",
      " 'challenges came their way. And so, their legend lived on, inspiring '\n",
      " 'generations of adventurers to come.')\n"
     ]
    }
   ],
   "source": [
    "import os\n",
    "from openai import OpenAI\n",
    "from pprint import pprint\n",
    "\n",
    "client = OpenAI(\n",
    "    api_key=os.environ[\"UPSTAGE_API_KEY\"], base_url=\"https://api.upstage.ai/v1/solar\"\n",
    ")\n",
    "chat_result = client.chat.completions.create(\n",
    "    model=\"solar-1-mini-chat\",\n",
    "    messages=[\n",
    "        {\n",
    "            \"role\": \"system\",\n",
    "            \"content\": \"Once Upon a Time in A Galaxy Far, Far, Away ...\",\n",
    "        },\n",
    "    ],\n",
    ")\n",
    "\n",
    "pprint(chat_result.choices[0].message.content)"
   ]
  },
  {
   "cell_type": "code",
   "execution_count": 6,
   "metadata": {},
   "outputs": [
    {
     "name": "stdout",
     "output_type": "stream",
     "text": [
      "('Sure, there are many great places to visit in Seoul for a good view. Here '\n",
      " 'are a few recommendations:\\n'\n",
      " '\\n'\n",
      " '1. N Seoul Tower: This is a popular spot for a panoramic view of the city. '\n",
      " \"It's located in Namsan Park and can be reached by cable car or by walking up \"\n",
      " 'the mountain.\\n'\n",
      " '2. Bukhansan Mountain: This is another great spot for a view of the city, as '\n",
      " \"it offers a view of both the eastern and western parts of Seoul. It's a bit \"\n",
      " 'of a hike to get to the top, but the view is worth it.\\n'\n",
      " '3. Lotte World Tower: This is the tallest building in South Korea and offers '\n",
      " 'a great view of the city from its observation deck.\\n'\n",
      " '4. Seoul Sky: This is another observation deck located in the Lotte World '\n",
      " 'Tower, and it offers a 360-degree view of the city.\\n'\n",
      " '5. Yeouido Park: This park offers a great view of the Han River and the city '\n",
      " \"skyline. It's a popular spot for picnics and walking.\\n\"\n",
      " '\\n'\n",
      " 'I hope this helps!')\n"
     ]
    }
   ],
   "source": [
    "chat_result = client.chat.completions.create(\n",
    "    model=\"solar-1-mini-chat\",\n",
    "    messages=[\n",
    "        {\"role\": \"system\", \"content\": \"Can you tell me good place to vision in Seoul?\"},\n",
    "    ],\n",
    ")\n",
    "\n",
    "pprint(chat_result.choices[0].message.content)"
   ]
  },
  {
   "cell_type": "markdown",
   "metadata": {},
   "source": [
    "![Langchain](figures/langchain.jpg)\n",
    "\n",
    "https://python.langchain.com/v0.1/docs/integrations/providers/upstage/"
   ]
  },
  {
   "cell_type": "code",
   "execution_count": 7,
   "metadata": {},
   "outputs": [
    {
     "data": {
      "text/plain": [
       "AIMessage(content='The best season to learn Korean depends on your personal preferences and learning style. Some people may find it easier to focus on learning a new language during the summer when they have more free time, while others may prefer to start in the fall or winter when they have a more structured schedule. Ultimately, the most important factor is to find a time that works best for you and to commit to a consistent study routine.', response_metadata={'token_usage': {'completion_tokens': 84, 'prompt_tokens': 21, 'total_tokens': 105}, 'model_name': 'solar-1-mini-chat-240612', 'system_fingerprint': None, 'finish_reason': 'stop', 'logprobs': None}, id='run-154b36ae-48bc-440d-8f30-8097aed23f9a-0', usage_metadata={'input_tokens': 21, 'output_tokens': 84, 'total_tokens': 105})"
      ]
     },
     "execution_count": 7,
     "metadata": {},
     "output_type": "execute_result"
    }
   ],
   "source": [
    "# Quick hello world\n",
    "from langchain_upstage import ChatUpstage\n",
    "\n",
    "llm = ChatUpstage()\n",
    "llm.invoke(\"What's the best season to get to Korean?\")"
   ]
  },
  {
   "cell_type": "code",
   "execution_count": 8,
   "metadata": {},
   "outputs": [
    {
     "data": {
      "text/plain": [
       "AIMessage(content='こんにちは、ソーラーLLMです！本日はどのようなご用件でしょうか？', response_metadata={'token_usage': {'completion_tokens': 17, 'prompt_tokens': 24, 'total_tokens': 41}, 'model_name': 'solar-1-mini-chat-ja-240612', 'system_fingerprint': None, 'finish_reason': 'stop', 'logprobs': None}, id='run-329e376b-eba4-4078-9022-656dd0a75e85-0', usage_metadata={'input_tokens': 24, 'output_tokens': 17, 'total_tokens': 41})"
      ]
     },
     "execution_count": 8,
     "metadata": {},
     "output_type": "execute_result"
    }
   ],
   "source": [
    "# Quick hello world\n",
    "from langchain_upstage import ChatUpstage\n",
    "\n",
    "llm = ChatUpstage(model=\"solar-1-mini-chat-ja\")\n",
    "llm.invoke(\"ソーラーLLM、こんにちは。ソーラーLLM、こんにちは。\")"
   ]
  },
  {
   "cell_type": "code",
   "execution_count": 9,
   "metadata": {},
   "outputs": [
    {
     "data": {
      "text/plain": [
       "(1, 4096)"
      ]
     },
     "execution_count": 9,
     "metadata": {},
     "output_type": "execute_result"
    }
   ],
   "source": [
    "from langchain_upstage import UpstageEmbeddings\n",
    "\n",
    "embeddings_model = UpstageEmbeddings(model=\"solar-embedding-1-large\")\n",
    "embeddings = embeddings_model.embed_documents(\n",
    "    [\n",
    "        \"Whay is the best season to visit Korea?\",\n",
    "    ])\n",
    "\n",
    "len(embeddings), len(embeddings[0])"
   ]
  }
 ],
 "metadata": {
  "kernelspec": {
   "display_name": ".venv",
   "language": "python",
   "name": "python3"
  },
  "language_info": {
   "codemirror_mode": {
    "name": "ipython",
    "version": 3
   },
   "file_extension": ".py",
   "mimetype": "text/x-python",
   "name": "python",
   "nbconvert_exporter": "python",
   "pygments_lexer": "ipython3",
   "version": "3.10.12"
  }
 },
 "nbformat": 4,
 "nbformat_minor": 2
}
