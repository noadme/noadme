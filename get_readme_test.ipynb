{
 "cells": [
  {
   "cell_type": "markdown",
   "metadata": {},
   "source": [
    "# README? NoADME!\n",
    "\n",
    "## Overview\n",
    "\n",
    "A concept figure?"
   ]
  },
  {
   "cell_type": "code",
   "execution_count": 2,
   "metadata": {},
   "outputs": [
    {
     "name": "stdout",
     "output_type": "stream",
     "text": [
      "Defaulting to user installation because normal site-packages is not writeable\n",
      "Collecting markdown\n",
      "  Downloading Markdown-3.6-py3-none-any.whl (105 kB)\n",
      "\u001b[2K     \u001b[90m━━━━━━━━━━━━━━━━━━━━━━━━━━━━━━━━━━━━━\u001b[0m \u001b[32m105.4/105.4 KB\u001b[0m \u001b[31m893.0 kB/s\u001b[0m eta \u001b[36m0:00:00\u001b[0ma \u001b[36m0:00:01\u001b[0m\n",
      "\u001b[?25hInstalling collected packages: markdown\n",
      "Successfully installed markdown-3.6\n"
     ]
    }
   ],
   "source": [
    "! pip install markdown"
   ]
  },
  {
   "cell_type": "code",
   "execution_count": 4,
   "metadata": {},
   "outputs": [
    {
     "data": {
      "text/plain": [
       "'# README? NoADME!\\n\\n'"
      ]
     },
     "execution_count": 4,
     "metadata": {},
     "output_type": "execute_result"
    }
   ],
   "source": [
    "import requests\n",
    "import markdown\n",
    "\n",
    "def fetch_github_readme(repo_url):\n",
    "    # Extract user and repo name from the URL\n",
    "    user_repo = repo_url.strip('/').split('/')[-2:]\n",
    "    user, repo = user_repo[0], user_repo[1]\n",
    "\n",
    "    # Construct the URL to the README.md file\n",
    "    readme_url = f\"https://raw.githubusercontent.com/{user}/{repo}/main/README.md\"\n",
    "\n",
    "    # Fetch the README.md file content\n",
    "    response = requests.get(readme_url)\n",
    "    if response.status_code == 200:\n",
    "        return response.text\n",
    "    else:\n",
    "        return f\"Error fetching README.md file: {response.status_code}\"\n",
    "    \n",
    "# Example usage\n",
    "repo_url = \"https://github.com/noadme/noadme\"  # Replace with your GitHub repo URL\n",
    "readme = fetch_github_readme(repo_url)\n",
    "readme\n"
   ]
  },
  {
   "cell_type": "code",
   "execution_count": 6,
   "metadata": {},
   "outputs": [
    {
     "data": {
      "text/plain": [
       "'사용자가 웹 애플리케이션에 로그인하고 인증된 상태에서 특정 기능을 요청하는 과정을 보여줍니다. 여기에는 사용자(User), 웹 애플리케이션(WEB), 인증 및 접근 관리 시스템(IAM, 예를 들어 Keycloak), API 백엔드(TB), 서비스 프로바이더(SP), 그리고 추가 서비스 프로바이더(CSP)와의 상호작용이 포함됩니다.\\n\\n### 시퀀스 설명\\n\\n1. **시스템 설정 단계 (로그인 없이)**\\n    - IAM 시스템이 TB(백엔드)에 Public Key를 제공합니다. 이 Public Key는 TB가 나중에 IAM으로부터 받은 토큰을 검증하는 데 사용됩니다.\\n    - IAM과 TB 사이의 이 설정은 사용자 로그인이 필요 없는 시스템 설정 단계입니다.\\n\\n2. **사용자 로그인 단계**\\n    - 사용자가 웹 애플리케이션(WEB)에 로그인 요청을 합니다.\\n    - WEB은 사용자 인증을 위해 IAM에 사용자 유효성 검사를 요청합니다.\\n    - IAM은 사용자가 유효한지 검증하고, 유효한 사용자라면 WEB에 사용자 토큰을 반환합니다.\\n    - WEB은 이 사용자 토큰을 사용하여 사용자에게 세션을 제공합니다.\\n    - 사용자와 WEB 사이에서 세션이 유지됩니다.\\n\\n3. **사용자의 기능 요청**\\n    - 사용자가 웹 애플리케이션(WEB)에 특정 기능을 요청합니다.\\n    - WEB은 이 요청을 처리하기 위해 사용자 토큰과 함께 TB에 API 호출을 합니다.\\n    - TB는 API 미들웨어를 통해 API 호출을 처리하고, IAM으로부터 받은 Public Key를 사용하여 사용자 토큰을 검증합니다.\\n\\n4. **서비스 프로바이더와의 상호작용**\\n    - TB는 사용자 토큰을 포함한 API 호출을 서비스 프로바이더(SP)에 전달합니다.\\n    - SP도 API 미들웨어를 통해 API 호출을 처리하고, 동일한 Public Key를 사용하여 사용자 토큰을 검증합니다.\\n    - SP는 추가 서비스 프로바이더(CSP)에 API 호출을 전달합니다.\\n    - CSP는 요청을 처리하고 결과를 SP에 반환합니다.\\n    - SP는 결과를 TB에 반환하고, TB는 최종 결과를 WEB에 반환합니다.\\n    - WEB은 사용자에게 최종 결과를 반환합니다.\\n\\n'"
      ]
     },
     "execution_count": 6,
     "metadata": {},
     "output_type": "execute_result"
    }
   ],
   "source": [
    "import requests\n",
    "import markdown\n",
    "\n",
    "def fetch_github_readme(readme_raw_url):\n",
    "\n",
    "    # Fetch the README.md file content\n",
    "    response = requests.get(readme_raw_url)\n",
    "    if response.status_code == 200:\n",
    "        return response.text\n",
    "    else:\n",
    "        return f\"Error fetching README.md file: {response.status_code}\"\n",
    "    \n",
    "# Example usage\n",
    "repo_url = \"https://raw.githubusercontent.com/noadme/noadme/main/test/test01.md\"  # Replace with your GitHub repo URL\n",
    "markdown_content = fetch_github_readme(repo_url)\n",
    "markdown_content"
   ]
  }
 ],
 "metadata": {
  "kernelspec": {
   "display_name": ".venv",
   "language": "python",
   "name": "python3"
  },
  "language_info": {
   "codemirror_mode": {
    "name": "ipython",
    "version": 3
   },
   "file_extension": ".py",
   "mimetype": "text/x-python",
   "name": "python",
   "nbconvert_exporter": "python",
   "pygments_lexer": "ipython3",
   "version": "3.10.12"
  }
 },
 "nbformat": 4,
 "nbformat_minor": 2
}
